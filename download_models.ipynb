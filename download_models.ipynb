{
 "cells": [
  {
   "cell_type": "code",
   "execution_count": 7,
   "metadata": {},
   "outputs": [],
   "source": [
    "import os\n",
    "import requests"
   ]
  },
  {
   "cell_type": "code",
   "execution_count": 8,
   "metadata": {},
   "outputs": [],
   "source": [
    "# Names of models to download\n",
    "person_detector = \"yolov8n-person.pt\"\n",
    "face_detector = \"yolov8n-face.pt\"\n",
    "face_identifier = \"adaface_ir50_webface4m.ckpt\"\n",
    "pose_detector = \"vitpose+_small.pth\""
   ]
  },
  {
   "cell_type": "code",
   "execution_count": 9,
   "metadata": {},
   "outputs": [],
   "source": [
    "repo_id = 'Jaspann/Person-Recognition-for-Pose-Estimation'\n",
    "component_models_dir = \"component_models\""
   ]
  },
  {
   "cell_type": "code",
   "execution_count": 10,
   "metadata": {},
   "outputs": [],
   "source": [
    "# Create output directory if it doesn't exist\n",
    "if not os.path.exists(component_models_dir):\n",
    "    os.makedirs(component_models_dir)"
   ]
  },
  {
   "cell_type": "code",
   "execution_count": 11,
   "metadata": {},
   "outputs": [],
   "source": [
    "def download(model_name):\n",
    "    \"\"\"\n",
    "    Download a model from the Hugging Face model hub.\n",
    "    \"\"\"\n",
    "\n",
    "    if os.path.exists(os.path.join(component_models_dir, model_name)):\n",
    "        print(f\"{model_name} already exists in {component_models_dir}\")\n",
    "        return\n",
    "\n",
    "    url = f\"https://huggingface.co/{repo_id}/resolve/main/components/{model_name}?download=true\"\n",
    "    response = requests.get(url)\n",
    "\n",
    "    if response.status_code == 200:\n",
    "        with open(os.path.join(component_models_dir, model_name), \"wb\") as f:\n",
    "            f.write(response.content)"
   ]
  },
  {
   "cell_type": "code",
   "execution_count": 12,
   "metadata": {},
   "outputs": [
    {
     "name": "stdout",
     "output_type": "stream",
     "text": [
      "yolov8n-person.pt already exists in component_models\n",
      "yolov8n-face.pt already exists in component_models\n",
      "adaface_ir50_webface4m.ckpt already exists in component_models\n",
      "vitpose+_small.pth already exists in component_models\n"
     ]
    }
   ],
   "source": [
    "download(person_detector)\n",
    "download(face_detector)\n",
    "download(face_identifier)\n",
    "download(pose_detector)"
   ]
  }
 ],
 "metadata": {
  "kernelspec": {
   "display_name": "venv",
   "language": "python",
   "name": "python3"
  },
  "language_info": {
   "codemirror_mode": {
    "name": "ipython",
    "version": 3
   },
   "file_extension": ".py",
   "mimetype": "text/x-python",
   "name": "python",
   "nbconvert_exporter": "python",
   "pygments_lexer": "ipython3",
   "version": "3.10.12"
  }
 },
 "nbformat": 4,
 "nbformat_minor": 2
}
