{
 "cells": [
  {
   "cell_type": "code",
   "execution_count": null,
   "metadata": {},
   "outputs": [],
   "source": [
    "import os\n",
    "import requests\n",
    "import pathlib"
   ]
  },
  {
   "cell_type": "code",
   "execution_count": 2,
   "metadata": {},
   "outputs": [],
   "source": [
    "# HF folder\n",
    "hf_folder = \"components\"\n",
    "\n",
    "# Models to download\n",
    "person_detector = \"yolov8n.pt\"\n",
    "person_detector_path = os.path.join(hf_folder, person_detector)\n",
    "face_detector = \"yolov8n-face.pt\"\n",
    "face_detector_path = os.path.join(hf_folder, face_detector)\n",
    "face_identifier = \"adaface_ir50_ms1mv2.ckpt\"\n",
    "face_identifier_path = os.path.join(hf_folder, face_identifier)"
   ]
  },
  {
   "cell_type": "code",
   "execution_count": null,
   "metadata": {},
   "outputs": [],
   "source": [
    "repo_id = 'Jaspann/Person-Recognition-for-Pose-Estimation'\n",
    "\n",
    "filepath = pathlib.Path(__file__).parent.resolve()\n",
    "component_models_dir = os.path.join(filepath, \"..\", \"component_models\")"
   ]
  },
  {
   "cell_type": "code",
   "execution_count": 4,
   "metadata": {},
   "outputs": [],
   "source": [
    "# Create output directory if it doesn't exist\n",
    "if not os.path.exists(component_models_dir):\n",
    "    os.makedirs(component_models_dir)"
   ]
  },
  {
   "cell_type": "code",
   "execution_count": 5,
   "metadata": {},
   "outputs": [],
   "source": [
    "def hf_download(model_name, model_path, repo_id, folder_path):\n",
    "    \"\"\"\n",
    "    Download a model from the Hugging Face model hub.\n",
    "    \"\"\"\n",
    "\n",
    "    if os.path.exists(os.path.join(folder_path, model_name)):\n",
    "        print(f\"{model_name} already exists in {folder_path}\")\n",
    "        return\n",
    "\n",
    "    url = f\"https://huggingface.co/{repo_id}/resolve/main/{model_path}?download=true\"\n",
    "    response = requests.get(url)\n",
    "\n",
    "    if response.status_code == 200:\n",
    "        with open(os.path.join(folder_path, model_name), \"wb\") as f:\n",
    "            f.write(response.content)\n",
    "    else:\n",
    "        print(f\"Error: {response.status_code}\")"
   ]
  },
  {
   "cell_type": "code",
   "execution_count": null,
   "metadata": {},
   "outputs": [],
   "source": [
    "hf_download(person_detector, person_detector_path, repo_id, component_models_dir)\n",
    "hf_download(face_detector, face_detector_path, repo_id, component_models_dir)\n",
    "hf_download(face_identifier, face_identifier_path, repo_id, component_models_dir)"
   ]
  }
 ],
 "metadata": {
  "kernelspec": {
   "display_name": "venv",
   "language": "python",
   "name": "python3"
  },
  "language_info": {
   "codemirror_mode": {
    "name": "ipython",
    "version": 3
   },
   "file_extension": ".py",
   "mimetype": "text/x-python",
   "name": "python",
   "nbconvert_exporter": "python",
   "pygments_lexer": "ipython3",
   "version": "3.10.12"
  }
 },
 "nbformat": 4,
 "nbformat_minor": 2
}
