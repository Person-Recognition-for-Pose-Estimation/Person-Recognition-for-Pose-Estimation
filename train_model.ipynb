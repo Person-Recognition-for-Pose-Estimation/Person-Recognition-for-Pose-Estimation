{
 "cells": [
  {
   "cell_type": "code",
   "execution_count": 2,
   "metadata": {},
   "outputs": [
    {
     "name": "stdout",
     "output_type": "stream",
     "text": [
      "Traceback (most recent call last):\n",
      "  File \"/home/william/git_projects/Person-Recognition-for-Pose-Estimation/venv/bin/yolo\", line 8, in <module>\n",
      "    sys.exit(entrypoint())\n",
      "  File \"/home/william/git_projects/Person-Recognition-for-Pose-Estimation/venv/lib/python3.10/site-packages/ultralytics/cfg/__init__.py\", line 884, in entrypoint\n",
      "    special[a.lower()]()\n",
      "  File \"/home/william/git_projects/Person-Recognition-for-Pose-Estimation/venv/lib/python3.10/site-packages/ultralytics/cfg/__init__.py\", line 846, in <lambda>\n",
      "    \"hub\": lambda: handle_yolo_hub(args[1:]),\n",
      "  File \"/home/william/git_projects/Person-Recognition-for-Pose-Estimation/venv/lib/python3.10/site-packages/ultralytics/cfg/__init__.py\", line 566, in handle_yolo_hub\n",
      "    if args[0] == \"login\":\n",
      "IndexError: list index out of range\n"
     ]
    }
   ],
   "source": [
    "!yolo -h"
   ]
  }
 ],
 "metadata": {
  "kernelspec": {
   "display_name": "venv",
   "language": "python",
   "name": "python3"
  },
  "language_info": {
   "codemirror_mode": {
    "name": "ipython",
    "version": 3
   },
   "file_extension": ".py",
   "mimetype": "text/x-python",
   "name": "python",
   "nbconvert_exporter": "python",
   "pygments_lexer": "ipython3",
   "version": "3.10.12"
  }
 },
 "nbformat": 4,
 "nbformat_minor": 2
}
